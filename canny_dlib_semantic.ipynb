{
 "cells": [
  {
   "cell_type": "code",
   "execution_count": 1,
   "metadata": {},
   "outputs": [
    {
     "name": "stdout",
     "output_type": "stream",
     "text": [
      "------------ Options -------------\n",
      "TTUR: False\n",
      "add_face_disc: False\n",
      "basic_point_only: False\n",
      "batchSize: 1\n",
      "beta1: 0.5\n",
      "checkpoints_dir: ./checkpoints\n",
      "continue_train: False\n",
      "dataroot: datasets/face/\n",
      "dataset_mode: face\n",
      "debug: False\n",
      "densepose_only: False\n",
      "display_freq: 100\n",
      "display_id: 0\n",
      "display_winsize: 512\n",
      "feat_num: 3\n",
      "fg: False\n",
      "fg_labels: [26]\n",
      "fineSize: 512\n",
      "fp16: False\n",
      "gan_mode: ls\n",
      "gpu_ids: [0]\n",
      "input_nc: 15\n",
      "isTrain: True\n",
      "label_feat: False\n",
      "label_nc: 0\n",
      "lambda_F: 10.0\n",
      "lambda_T: 10.0\n",
      "lambda_feat: 10.0\n",
      "loadSize: 512\n",
      "load_features: False\n",
      "load_pretrain: \n",
      "local_rank: 0\n",
      "lr: 0.0002\n",
      "max_dataset_size: inf\n",
      "max_frames_backpropagate: 1\n",
      "max_frames_per_gpu: 1\n",
      "max_t_step: 1\n",
      "model: vid2vid\n",
      "nThreads: 2\n",
      "n_blocks: 9\n",
      "n_blocks_local: 3\n",
      "n_downsample_E: 3\n",
      "n_downsample_G: 3\n",
      "n_frames_D: 3\n",
      "n_frames_G: 3\n",
      "n_frames_total: 1\n",
      "n_gpus_gen: 1\n",
      "n_layers_D: 3\n",
      "n_local_enhancers: 1\n",
      "n_scales_spatial: 1\n",
      "n_scales_temporal: 2\n",
      "name: edge2face_512\n",
      "ndf: 64\n",
      "nef: 32\n",
      "netE: simple\n",
      "netG: composite\n",
      "ngf: 128\n",
      "niter: 20\n",
      "niter_decay: 20\n",
      "niter_fix_global: 0\n",
      "niter_step: 5\n",
      "no_canny_edge: False\n",
      "no_dist_map: False\n",
      "no_first_img: False\n",
      "no_flip: False\n",
      "no_flow: False\n",
      "no_ganFeat: False\n",
      "no_html: False\n",
      "no_vgg: False\n",
      "norm: batch\n",
      "num_D: 3\n",
      "openpose_only: False\n",
      "output_nc: 3\n",
      "phase: train\n",
      "pool_size: 1\n",
      "print_freq: 100\n",
      "random_drop_prob: 0.05\n",
      "random_scale_points: False\n",
      "remove_face_labels: False\n",
      "resize_or_crop: scaleWidth\n",
      "save_epoch_freq: 1\n",
      "save_latest_freq: 1000\n",
      "serial_batches: False\n",
      "sparse_D: False\n",
      "tf_log: False\n",
      "use_instance: False\n",
      "use_single_G: False\n",
      "which_epoch: latest\n",
      "-------------- End ----------------\n"
     ]
    }
   ],
   "source": [
    "import sys\n",
    "from train_options import TrainOptions\n",
    "from data_loader import CreateDataLoader\n",
    "import numpy as np\n",
    "from face_landmark_detection import get_dlib_keypoints\n",
    "import os\n",
    "import torch\n",
    "dataset_root = 'datasets/face/'\n",
    "sys.argv = ('train.py --name edge2face_512 \\\n",
    " --dataroot ' + dataset_root +' --dataset_mode face \\\n",
    " --input_nc 15 --loadSize 512 --num_D 3 \\\n",
    " --niter 20 --niter_decay 20 --n_frames_total 1').split()\n",
    "opt = TrainOptions().parse()\n"
   ]
  },
  {
   "cell_type": "code",
   "execution_count": 2,
   "metadata": {},
   "outputs": [
    {
     "name": "stdout",
     "output_type": "stream",
     "text": [
      "Processing video: datasets/face/train_img/0001\n",
      "Processing video: datasets/face/train_img/0002\n"
     ]
    }
   ],
   "source": [
    "get_dlib_keypoints(dataset_root)"
   ]
  },
  {
   "cell_type": "code",
   "execution_count": 3,
   "metadata": {},
   "outputs": [
    {
     "name": "stdout",
     "output_type": "stream",
     "text": [
      "CustomDatasetDataLoader\n",
      "dataset [FaceDataset] was created\n",
      "#training videos = 2\n"
     ]
    }
   ],
   "source": [
    "data_loader = CreateDataLoader(opt)\n",
    "dataset = data_loader.load_data()\n",
    "dataset_size = len(data_loader)    \n",
    "print('#training videos = %d' % dataset_size)"
   ]
  },
  {
   "cell_type": "code",
   "execution_count": null,
   "metadata": {},
   "outputs": [],
   "source": []
  },
  {
   "cell_type": "code",
   "execution_count": null,
   "metadata": {},
   "outputs": [],
   "source": []
  },
  {
   "cell_type": "code",
   "execution_count": null,
   "metadata": {},
   "outputs": [],
   "source": []
  },
  {
   "cell_type": "code",
   "execution_count": 4,
   "metadata": {},
   "outputs": [
    {
     "data": {
      "text/plain": [
       "(2, 30)"
      ]
     },
     "execution_count": 4,
     "metadata": {},
     "output_type": "execute_result"
    }
   ],
   "source": [
    "len(data_loader.dataset.A_paths), len(data_loader.dataset.A_paths[0])"
   ]
  },
  {
   "cell_type": "code",
   "execution_count": null,
   "metadata": {},
   "outputs": [],
   "source": []
  },
  {
   "cell_type": "code",
   "execution_count": 5,
   "metadata": {},
   "outputs": [
    {
     "data": {
      "text/plain": [
       "'datasets/face/'"
      ]
     },
     "execution_count": 5,
     "metadata": {},
     "output_type": "execute_result"
    }
   ],
   "source": [
    "data_loader.opt.dataroot"
   ]
  },
  {
   "cell_type": "code",
   "execution_count": null,
   "metadata": {
    "scrolled": true
   },
   "outputs": [],
   "source": [
    "for item in data_loader.dataset:\n",
    "    item_a_path = item['A_path']\n",
    "    item_fn = item_a_path.split('/')[-1][:-4]\n",
    "    semantics_save_path = '/'.join(item_a_path.split('/')[:-1]+['semantics'])\n",
    "    if not os.path.isdir(semantics_save_path):\n",
    "        os.makedirs(semantics_save_path)\n",
    "    torch.save(item['inst'], semantics_save_path + '/'+item_fn+'_inst.pt')\n",
    "    torch.save(item['A'][0], semantics_save_path + '/'+item_fn+'_canny.pt')    \n",
    "    \n",
    "#     print('<<---->>', item['A_path'])"
   ]
  },
  {
   "cell_type": "code",
   "execution_count": 21,
   "metadata": {},
   "outputs": [
    {
     "data": {
      "text/plain": [
       "dict_keys(['A', 'B', 'inst', 'A_path', 'change_seq'])"
      ]
     },
     "execution_count": 21,
     "metadata": {},
     "output_type": "execute_result"
    }
   ],
   "source": [
    "item.keys()"
   ]
  },
  {
   "cell_type": "code",
   "execution_count": 22,
   "metadata": {},
   "outputs": [
    {
     "data": {
      "text/plain": [
       "torch.Size([45, 512, 512])"
      ]
     },
     "execution_count": 22,
     "metadata": {},
     "output_type": "execute_result"
    }
   ],
   "source": [
    "item['A'].shape"
   ]
  },
  {
   "cell_type": "code",
   "execution_count": 23,
   "metadata": {},
   "outputs": [
    {
     "data": {
      "text/plain": [
       "torch.Size([9, 512, 512])"
      ]
     },
     "execution_count": 23,
     "metadata": {},
     "output_type": "execute_result"
    }
   ],
   "source": [
    "item['B'].shape"
   ]
  },
  {
   "cell_type": "code",
   "execution_count": 24,
   "metadata": {},
   "outputs": [
    {
     "data": {
      "text/plain": [
       "torch.Size([3, 512, 512])"
      ]
     },
     "execution_count": 24,
     "metadata": {},
     "output_type": "execute_result"
    }
   ],
   "source": [
    "item['inst'].shape"
   ]
  },
  {
   "cell_type": "code",
   "execution_count": 25,
   "metadata": {},
   "outputs": [
    {
     "data": {
      "text/plain": [
       "'datasets/face/train_keypoints/0003/00028.txt'"
      ]
     },
     "execution_count": 25,
     "metadata": {},
     "output_type": "execute_result"
    }
   ],
   "source": [
    "item['A_path']"
   ]
  },
  {
   "cell_type": "code",
   "execution_count": 26,
   "metadata": {},
   "outputs": [
    {
     "data": {
      "text/plain": [
       "False"
      ]
     },
     "execution_count": 26,
     "metadata": {},
     "output_type": "execute_result"
    }
   ],
   "source": [
    "item['change_seq']"
   ]
  },
  {
   "cell_type": "code",
   "execution_count": 27,
   "metadata": {},
   "outputs": [],
   "source": [
    "import matplotlib.pyplot as plt"
   ]
  },
  {
   "cell_type": "code",
   "execution_count": 56,
   "metadata": {},
   "outputs": [
    {
     "data": {
      "text/plain": [
       "<matplotlib.image.AxesImage at 0x1442da910>"
      ]
     },
     "execution_count": 56,
     "metadata": {},
     "output_type": "execute_result"
    },
    {
     "data": {
      "image/png": "[encoded data removed]",
      "text/plain": [
       "<Figure size 432x288 with 1 Axes>"
      ]
     },
     "metadata": {
      "needs_background": "light"
     },
     "output_type": "display_data"
    }
   ],
   "source": [
    "plt.imshow(item['inst'][0])"
   ]
  },
  {
   "cell_type": "code",
   "execution_count": 29,
   "metadata": {},
   "outputs": [],
   "source": [
    "vv = item['inst'][1]"
   ]
  },
  {
   "cell_type": "code",
   "execution_count": 30,
   "metadata": {},
   "outputs": [
    {
     "data": {
      "text/plain": [
       "torch.float32"
      ]
     },
     "execution_count": 30,
     "metadata": {},
     "output_type": "execute_result"
    }
   ],
   "source": [
    "vv.dtype"
   ]
  },
  {
   "cell_type": "code",
   "execution_count": 31,
   "metadata": {},
   "outputs": [
    {
     "data": {
      "text/plain": [
       "array([0., 1., 2., 3., 4., 5., 6.], dtype=float32)"
      ]
     },
     "execution_count": 31,
     "metadata": {},
     "output_type": "execute_result"
    }
   ],
   "source": [
    "np.unique(vv.numpy())"
   ]
  },
  {
   "cell_type": "code",
   "execution_count": 57,
   "metadata": {},
   "outputs": [
    {
     "data": {
      "text/plain": [
       "<matplotlib.image.AxesImage at 0x144481ad0>"
      ]
     },
     "execution_count": 57,
     "metadata": {},
     "output_type": "execute_result"
    },
    {
     "data": {
      "image/png": "[encoded data removed]",
      "text/plain": [
       "<Figure size 432x288 with 1 Axes>"
      ]
     },
     "metadata": {
      "needs_background": "light"
     },
     "output_type": "display_data"
    }
   ],
   "source": [
    "plt.imshow(item['A'][0])"
   ]
  },
  {
   "cell_type": "code",
   "execution_count": 33,
   "metadata": {},
   "outputs": [
    {
     "data": {
      "text/plain": [
       "(256,)"
      ]
     },
     "execution_count": 33,
     "metadata": {},
     "output_type": "execute_result"
    }
   ],
   "source": [
    "np.unique(item['A'][0]).shape"
   ]
  },
  {
   "cell_type": "code",
   "execution_count": 34,
   "metadata": {},
   "outputs": [
    {
     "data": {
      "text/plain": [
       "torch.float32"
      ]
     },
     "execution_count": 34,
     "metadata": {},
     "output_type": "execute_result"
    }
   ],
   "source": [
    "item['A'][0].dtype"
   ]
  },
  {
   "cell_type": "code",
   "execution_count": 35,
   "metadata": {},
   "outputs": [
    {
     "data": {
      "text/plain": [
       "<matplotlib.image.AxesImage at 0x13dd82b90>"
      ]
     },
     "execution_count": 35,
     "metadata": {},
     "output_type": "execute_result"
    },
    {
     "data": {
      "image/png": "[encoded data removed]",
      "text/plain": [
       "<Figure size 432x288 with 1 Axes>"
      ]
     },
     "metadata": {
      "needs_background": "light"
     },
     "output_type": "display_data"
    }
   ],
   "source": [
    "plt.imshow(item['B'][0])"
   ]
  },
  {
   "cell_type": "code",
   "execution_count": null,
   "metadata": {},
   "outputs": [],
   "source": []
  },
  {
   "cell_type": "code",
   "execution_count": null,
   "metadata": {},
   "outputs": [],
   "source": []
  },
  {
   "cell_type": "code",
   "execution_count": null,
   "metadata": {},
   "outputs": [],
   "source": []
  },
  {
   "cell_type": "code",
   "execution_count": null,
   "metadata": {},
   "outputs": [],
   "source": []
  },
  {
   "cell_type": "code",
   "execution_count": null,
   "metadata": {},
   "outputs": [],
   "source": []
  },
  {
   "cell_type": "code",
   "execution_count": null,
   "metadata": {},
   "outputs": [],
   "source": []
  },
  {
   "cell_type": "code",
   "execution_count": null,
   "metadata": {},
   "outputs": [],
   "source": []
  },
  {
   "cell_type": "code",
   "execution_count": null,
   "metadata": {},
   "outputs": [],
   "source": []
  },
  {
   "cell_type": "code",
   "execution_count": null,
   "metadata": {},
   "outputs": [],
   "source": []
  },
  {
   "cell_type": "code",
   "execution_count": null,
   "metadata": {},
   "outputs": [],
   "source": []
  }
 ],
 "metadata": {
  "kernelspec": {
   "display_name": "Python 3",
   "language": "python",
   "name": "python3"
  },
  "language_info": {
   "codemirror_mode": {
    "name": "ipython",
    "version": 3
   },
   "file_extension": ".py",
   "mimetype": "text/x-python",
   "name": "python",
   "nbconvert_exporter": "python",
   "pygments_lexer": "ipython3",
   "version": "3.7.4"
  }
 },
 "nbformat": 4,
 "nbformat_minor": 2
}
